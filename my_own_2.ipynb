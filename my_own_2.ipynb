{
 "cells": [
  {
   "cell_type": "code",
   "execution_count": 4,
   "metadata": {},
   "outputs": [],
   "source": [
    "import pymc3 as pm\n",
    "\n",
    "with pm.Model() as model:\n",
    "    param = pm.Exponential('poi_param', 1)\n",
    "    data_gen = pm.Poisson('data_gen', param)\n",
    "    \n",
    "    data_plus_one = data_gen + 1\n",
    "    "
   ]
  },
  {
   "cell_type": "code",
   "execution_count": 8,
   "metadata": {},
   "outputs": [
    {
     "data": {
      "text/plain": [
       "array(1)"
      ]
     },
     "execution_count": 8,
     "metadata": {},
     "output_type": "execute_result"
    }
   ],
   "source": [
    "data_plus_one.tag.test_value"
   ]
  },
  {
   "cell_type": "code",
   "execution_count": 9,
   "metadata": {
    "collapsed": true
   },
   "outputs": [],
   "source": [
    "with pm.Model() as model:\n",
    "    theta = pm.Exponential('theta', 2)\n",
    "    data_generator = pm.Poisson('data_gen', theta)"
   ]
  },
  {
   "cell_type": "code",
   "execution_count": 13,
   "metadata": {},
   "outputs": [
    {
     "data": {
      "text/plain": [
       "array(0.3465735986138816)"
      ]
     },
     "execution_count": 13,
     "metadata": {},
     "output_type": "execute_result"
    }
   ],
   "source": [
    "theta.tag.test_value"
   ]
  },
  {
   "cell_type": "code",
   "execution_count": 30,
   "metadata": {
    "collapsed": true
   },
   "outputs": [],
   "source": [
    "with pm.Model() as model:\n",
    "    lambda_1 = pm.Exponential(\"lambda_1\", 1)\n",
    "    lambda_2 = pm.Exponential(\"lambda_2\", 1)\n",
    "    tau = pm.DiscreteUniform(\"tau\", lower=0, upper=10)\n",
    "\n",
    "new_deterministic_variable = lambda_1 + lambda_2"
   ]
  },
  {
   "cell_type": "code",
   "execution_count": 15,
   "metadata": {},
   "outputs": [],
   "source": [
    "# init stochastic vrs\n",
    "with model:\n",
    "    \n",
    "    betas = pm.Uniform('betas', 0, 1, shape=4)\n"
   ]
  },
  {
   "cell_type": "code",
   "execution_count": 16,
   "metadata": {},
   "outputs": [
    {
     "data": {
      "text/plain": [
       "array([ 0.5,  0.5,  0.5,  0.5])"
      ]
     },
     "execution_count": 16,
     "metadata": {},
     "output_type": "execute_result"
    }
   ],
   "source": [
    "betas.tag.test_value"
   ]
  },
  {
   "cell_type": "code",
   "execution_count": 19,
   "metadata": {
    "collapsed": true
   },
   "outputs": [],
   "source": [
    "def subtract(x, y):\n",
    "    return x - y\n",
    "\n",
    "\n",
    "with pm.Model() as model:\n",
    "    l_1 = pm.Poisson('lambda_1', 1.5)\n",
    "    l_2 = pm.Poisson('lambda_2', 4.5)\n",
    "    \n",
    "    det_1 = pm.Deterministic('delta', subtract(l_1, l_2))"
   ]
  },
  {
   "cell_type": "code",
   "execution_count": 22,
   "metadata": {},
   "outputs": [
    {
     "data": {
      "text/plain": [
       "array(-3)"
      ]
     },
     "execution_count": 22,
     "metadata": {},
     "output_type": "execute_result"
    }
   ],
   "source": [
    "det_1.tag.test_value"
   ]
  },
  {
   "cell_type": "code",
   "execution_count": 23,
   "metadata": {
    "collapsed": true
   },
   "outputs": [],
   "source": [
    "import theano.tensor as tt\n",
    "\n",
    "with pm.Model() as theano_test:\n",
    "    p1 = pm.Uniform('p', 0, 1)\n",
    "    p2 = 1 - p1\n",
    "    \n",
    "    p = tt.stack([p1, p2])\n",
    "    \n",
    "    assignment = pm.Categorical('assignment', p)"
   ]
  },
  {
   "cell_type": "code",
   "execution_count": 63,
   "metadata": {
    "collapsed": true
   },
   "outputs": [],
   "source": [
    "% matplotlib inline\n",
    "from IPython.core.pylabtools import figsize\n",
    "import matplotlib.pyplot as plt\n",
    "import scipy.stats as stats\n",
    "figsize(4, 3)"
   ]
  },
  {
   "cell_type": "code",
   "execution_count": 87,
   "metadata": {
    "collapsed": true
   },
   "outputs": [],
   "source": [
    "with pm.Model() as model:\n",
    "    lambda_1 = pm.Exponential(\"lambda_1\", 1)\n",
    "    lambda_2 = pm.Exponential(\"lambda_2\", 1)\n",
    "    tau = pm.DiscreteUniform(\"tau\", lower=0, upper=10)\n",
    "\n",
    "new_deterministic_variable = lambda_1 + lambda_2"
   ]
  },
  {
   "cell_type": "code",
   "execution_count": 88,
   "metadata": {
    "collapsed": true
   },
   "outputs": [],
   "source": [
    "import numpy as np\n",
    "\n",
    "n_data_points = 5  # in CH1 we had ~70 data points\n",
    "idx = np.arange(n_data_points)\n",
    "with model:\n",
    "    lambda_ = pm.math.switch(tau >= idx, lambda_1, lambda_2)"
   ]
  },
  {
   "cell_type": "code",
   "execution_count": 89,
   "metadata": {},
   "outputs": [
    {
     "data": {
      "text/plain": [
       "array([ 1.27031558])"
      ]
     },
     "execution_count": 89,
     "metadata": {},
     "output_type": "execute_result"
    }
   ],
   "source": [
    "lambda_1.random()"
   ]
  },
  {
   "cell_type": "code",
   "execution_count": 90,
   "metadata": {},
   "outputs": [],
   "source": [
    "sample = [lambda_1.random()[0] for i in range(20000)]"
   ]
  },
  {
   "cell_type": "code",
   "execution_count": 91,
   "metadata": {},
   "outputs": [
    {
     "data": {
      "text/plain": [
       "(array([  3.28000000e+03,   2.77600000e+03,   2.30300000e+03,\n",
       "          1.94400000e+03,   1.59300000e+03,   1.37800000e+03,\n",
       "          1.15400000e+03,   9.83000000e+02,   7.43000000e+02,\n",
       "          6.61000000e+02,   5.13000000e+02,   4.73000000e+02,\n",
       "          3.67000000e+02,   2.97000000e+02,   2.59000000e+02,\n",
       "          2.42000000e+02,   1.89000000e+02,   1.45000000e+02,\n",
       "          1.04000000e+02,   9.50000000e+01,   8.60000000e+01,\n",
       "          7.50000000e+01,   6.40000000e+01,   4.80000000e+01,\n",
       "          3.60000000e+01,   2.50000000e+01,   2.80000000e+01,\n",
       "          2.00000000e+01,   2.40000000e+01,   1.90000000e+01,\n",
       "          1.50000000e+01,   1.30000000e+01,   4.00000000e+00,\n",
       "          9.00000000e+00,   4.00000000e+00,   4.00000000e+00,\n",
       "          1.00000000e+01,   6.00000000e+00,   3.00000000e+00,\n",
       "          3.00000000e+00,   1.00000000e+00,   0.00000000e+00,\n",
       "          0.00000000e+00,   0.00000000e+00,   0.00000000e+00,\n",
       "          0.00000000e+00,   1.00000000e+00,   0.00000000e+00,\n",
       "          0.00000000e+00,   1.00000000e+00,   0.00000000e+00,\n",
       "          0.00000000e+00,   1.00000000e+00,   0.00000000e+00,\n",
       "          0.00000000e+00,   0.00000000e+00,   0.00000000e+00,\n",
       "          0.00000000e+00,   0.00000000e+00,   0.00000000e+00,\n",
       "          0.00000000e+00,   0.00000000e+00,   0.00000000e+00,\n",
       "          0.00000000e+00,   0.00000000e+00,   0.00000000e+00,\n",
       "          0.00000000e+00,   0.00000000e+00,   0.00000000e+00,\n",
       "          1.00000000e+00]),\n",
       " array([  2.58852206e-05,   1.81190982e-01,   3.62356078e-01,\n",
       "          5.43521175e-01,   7.24686271e-01,   9.05851368e-01,\n",
       "          1.08701646e+00,   1.26818156e+00,   1.44934666e+00,\n",
       "          1.63051175e+00,   1.81167685e+00,   1.99284195e+00,\n",
       "          2.17400704e+00,   2.35517214e+00,   2.53633724e+00,\n",
       "          2.71750233e+00,   2.89866743e+00,   3.07983253e+00,\n",
       "          3.26099762e+00,   3.44216272e+00,   3.62332782e+00,\n",
       "          3.80449291e+00,   3.98565801e+00,   4.16682311e+00,\n",
       "          4.34798820e+00,   4.52915330e+00,   4.71031840e+00,\n",
       "          4.89148349e+00,   5.07264859e+00,   5.25381369e+00,\n",
       "          5.43497878e+00,   5.61614388e+00,   5.79730897e+00,\n",
       "          5.97847407e+00,   6.15963917e+00,   6.34080426e+00,\n",
       "          6.52196936e+00,   6.70313446e+00,   6.88429955e+00,\n",
       "          7.06546465e+00,   7.24662975e+00,   7.42779484e+00,\n",
       "          7.60895994e+00,   7.79012504e+00,   7.97129013e+00,\n",
       "          8.15245523e+00,   8.33362033e+00,   8.51478542e+00,\n",
       "          8.69595052e+00,   8.87711562e+00,   9.05828071e+00,\n",
       "          9.23944581e+00,   9.42061091e+00,   9.60177600e+00,\n",
       "          9.78294110e+00,   9.96410620e+00,   1.01452713e+01,\n",
       "          1.03264364e+01,   1.05076015e+01,   1.06887666e+01,\n",
       "          1.08699317e+01,   1.10510968e+01,   1.12322619e+01,\n",
       "          1.14134270e+01,   1.15945921e+01,   1.17757572e+01,\n",
       "          1.19569223e+01,   1.21380874e+01,   1.23192525e+01,\n",
       "          1.25004175e+01,   1.26815826e+01]),\n",
       " <a list of 70 Patch objects>)"
      ]
     },
     "execution_count": 91,
     "metadata": {},
     "output_type": "execute_result"
    },
    {
     "data": {
      "image/png": "[encoded data removed]",
      "text/plain": [
       "<matplotlib.figure.Figure at 0x7f3523d145f8>"
      ]
     },
     "metadata": {},
     "output_type": "display_data"
    }
   ],
   "source": [
    "plt.hist(sample, bins=70)"
   ]
  },
  {
   "cell_type": "code",
   "execution_count": 92,
   "metadata": {},
   "outputs": [],
   "source": [
    "date = np.array([10,5])\n",
    "with model:\n",
    "    fixed_variable = pm.Poisson('fxd', 1, observed=date)"
   ]
  },
  {
   "cell_type": "code",
   "execution_count": 117,
   "metadata": {},
   "outputs": [
    {
     "data": {
      "image/png": "[encoded data removed]",
      "text/plain": [
       "<matplotlib.figure.Figure at 0x7f352291d0f0>"
      ]
     },
     "metadata": {},
     "output_type": "display_data"
    }
   ],
   "source": [
    "\n",
    "\n",
    "tau = np.random.randint(0, 80)\n",
    "\n",
    "alpha = 1./20.\n",
    "lambda_1, lambda_2 = np.random.exponential(scale=1./alpha, size=2)\n",
    "\n",
    "data = np.r_[stats.poisson.rvs(mu=lambda_1, size=tau), stats.poisson.rvs(mu=lambda_2, size=80-tau)]\n",
    "\n",
    "plt.bar(np.arange(80), data)\n",
    "plt.bar(tau-1, data[tau-1], color='#FFEE44')\n",
    "\n",
    "figsize(8, 3)"
   ]
  },
  {
   "cell_type": "code",
   "execution_count": 144,
   "metadata": {},
   "outputs": [],
   "source": [
    "## a b testing\n",
    "\n",
    "import pymc3 as pm\n",
    "\n",
    "with pm.Model() as model:\n",
    "    p = pm.Uniform('p', lower=0, upper=1)"
   ]
  },
  {
   "cell_type": "code",
   "execution_count": 145,
   "metadata": {
    "collapsed": true
   },
   "outputs": [],
   "source": [
    "p_true = .05\n",
    "N = 150000\n",
    "\n",
    "occurences = stats.bernoulli.rvs(p_true, size=N)"
   ]
  },
  {
   "cell_type": "code",
   "execution_count": 146,
   "metadata": {},
   "outputs": [
    {
     "name": "stderr",
     "output_type": "stream",
     "text": [
      "/home/nol/anaconda3/envs/snowflake/lib/python3.6/site-packages/theano/tensor/basic.py:2146: UserWarning: theano.tensor.round() changed its default from `half_away_from_zero` to `half_to_even` to have the same default as NumPy. Use the Theano flag `warn.round=False` to disable this warning.\n",
      "  \"theano.tensor.round() changed its default from\"\n",
      "100%|██████████| 18999/18999 [00:51<00:00, 366.74it/s]\n"
     ]
    }
   ],
   "source": [
    "with model:\n",
    "    obs = pm.Bernoulli('obs', p, observed=occurences)\n",
    "    step = pm.Metropolis()\n",
    "    trace = pm.sample(18999, step=step)\n",
    "    burned_trace = trace[1000:]"
   ]
  },
  {
   "cell_type": "code",
   "execution_count": 150,
   "metadata": {},
   "outputs": [
    {
     "data": {
      "text/plain": [
       "<matplotlib.axes._subplots.AxesSubplot at 0x7f351e101ef0>"
      ]
     },
     "execution_count": 150,
     "metadata": {},
     "output_type": "execute_result"
    },
    {
     "data": {
      "image/png": "[encoded data removed]",
      "text/plain": [
       "<matplotlib.figure.Figure at 0x7f351e93c5c0>"
      ]
     },
     "metadata": {},
     "output_type": "display_data"
    }
   ],
   "source": [
    "import seaborn as sns\n",
    "sns.distplot(burned_trace['p'], bins=30)"
   ]
  },
  {
   "cell_type": "code",
   "execution_count": 166,
   "metadata": {},
   "outputs": [],
   "source": [
    "## a and b togther\n",
    "p_1 = 0.04\n",
    "p_2 = 0.05\n",
    "N = 500000\n",
    "\n",
    "occurences_1 = stats.bernoulli.rvs(p_1, size=N)\n",
    "occurences_2 = stats.bernoulli.rvs(p_2, size=N)\n",
    "\n",
    "\n"
   ]
  },
  {
   "cell_type": "code",
   "execution_count": 172,
   "metadata": {},
   "outputs": [
    {
     "name": "stderr",
     "output_type": "stream",
     "text": [
      "/home/nol/anaconda3/envs/snowflake/lib/python3.6/site-packages/theano/tensor/basic.py:2146: UserWarning: theano.tensor.round() changed its default from `half_away_from_zero` to `half_to_even` to have the same default as NumPy. Use the Theano flag `warn.round=False` to disable this warning.\n",
      "  \"theano.tensor.round() changed its default from\"\n"
     ]
    }
   ],
   "source": [
    "with pm.Model() as model:\n",
    "    p_1 = pm.Uniform('p_1', 0, 1)\n",
    "    obs_1 = pm.Bernoulli('obs_1', p_1, observed=occurences_1)\n",
    "    \n",
    "    p_2 = pm.Uniform('p_2', 0, 1)\n",
    "    \n",
    "    obs_2 = pm.Bernoulli('obs_2', p_2, observed=occurences_2)\n",
    "    \n",
    "    diff = pm.Deterministic('delta', abs(p_1 - p_2))"
   ]
  },
  {
   "cell_type": "code",
   "execution_count": 174,
   "metadata": {},
   "outputs": [
    {
     "name": "stderr",
     "output_type": "stream",
     "text": [
      "\n",
      "\u001b[A\n",
      "  0%|          | 0/1000 [00:00<?, ?it/s]\u001b[A\n",
      "  1%|          | 8/1000 [00:00<00:13, 72.01it/s]\u001b[A\n",
      "  2%|▏         | 15/1000 [00:00<00:14, 69.45it/s]\u001b[A\n",
      "  2%|▏         | 22/1000 [00:00<00:14, 68.30it/s]\u001b[A\n",
      "  3%|▎         | 29/1000 [00:00<00:14, 68.08it/s]\u001b[A\n",
      "  4%|▎         | 35/1000 [00:00<00:14, 64.99it/s]\u001b[A\n",
      "  4%|▍         | 42/1000 [00:00<00:14, 65.99it/s]\u001b[A\n",
      "  5%|▍         | 49/1000 [00:00<00:14, 65.73it/s]\u001b[A\n",
      "  6%|▌         | 56/1000 [00:00<00:14, 65.15it/s]\u001b[A\n",
      "  6%|▋         | 64/1000 [00:00<00:14, 66.60it/s]\u001b[A\n",
      "  7%|▋         | 71/1000 [00:01<00:14, 65.95it/s]\u001b[A\n",
      "  8%|▊         | 78/1000 [00:01<00:13, 65.90it/s]\u001b[A\n",
      "  8%|▊         | 85/1000 [00:01<00:14, 65.09it/s]\u001b[A\n",
      "  9%|▉         | 92/1000 [00:01<00:14, 64.83it/s]\u001b[A\n",
      " 10%|▉         | 99/1000 [00:01<00:13, 65.05it/s]\u001b[A\n",
      " 11%|█         | 106/1000 [00:01<00:13, 65.45it/s]\u001b[A\n",
      " 11%|█▏        | 113/1000 [00:01<00:14, 61.51it/s]\u001b[A\n",
      " 12%|█▏        | 120/1000 [00:01<00:15, 58.31it/s]\u001b[A\n",
      " 13%|█▎        | 126/1000 [00:01<00:15, 56.29it/s]\u001b[A\n",
      " 13%|█▎        | 133/1000 [00:02<00:14, 58.21it/s]\u001b[A\n",
      " 14%|█▍        | 140/1000 [00:02<00:14, 60.27it/s]\u001b[A\n",
      " 15%|█▍        | 147/1000 [00:02<00:13, 62.38it/s]\u001b[A\n",
      " 15%|█▌        | 154/1000 [00:02<00:13, 62.39it/s]\u001b[A\n",
      " 16%|█▌        | 161/1000 [00:02<00:13, 61.47it/s]\u001b[A\n",
      " 17%|█▋        | 168/1000 [00:02<00:13, 61.58it/s]\u001b[A\n",
      " 18%|█▊        | 175/1000 [00:02<00:13, 63.26it/s]\u001b[A\n",
      " 18%|█▊        | 182/1000 [00:02<00:12, 63.61it/s]\u001b[A\n",
      " 19%|█▉        | 189/1000 [00:02<00:13, 62.09it/s]\u001b[A\n",
      " 20%|█▉        | 196/1000 [00:03<00:12, 62.86it/s]\u001b[A\n",
      " 20%|██        | 204/1000 [00:03<00:12, 65.32it/s]\u001b[A\n",
      " 21%|██        | 211/1000 [00:03<00:12, 64.58it/s]\u001b[A\n",
      " 22%|██▏       | 218/1000 [00:03<00:13, 56.04it/s]\u001b[A\n",
      " 22%|██▏       | 224/1000 [00:03<00:14, 54.64it/s]\u001b[A\n",
      " 23%|██▎       | 231/1000 [00:03<00:13, 56.67it/s]\u001b[A\n",
      " 24%|██▍       | 238/1000 [00:03<00:12, 58.66it/s]\u001b[A\n",
      " 24%|██▍       | 245/1000 [00:03<00:12, 59.55it/s]\u001b[A\n",
      " 25%|██▌       | 252/1000 [00:04<00:12, 58.35it/s]\u001b[A\n",
      " 26%|██▌       | 259/1000 [00:04<00:12, 60.06it/s]\u001b[A\n",
      " 27%|██▋       | 266/1000 [00:04<00:12, 60.01it/s]\u001b[A\n",
      " 27%|██▋       | 273/1000 [00:04<00:12, 56.96it/s]\u001b[A\n",
      " 28%|██▊       | 279/1000 [00:04<00:13, 53.69it/s]\u001b[A\n",
      " 28%|██▊       | 285/1000 [00:04<00:12, 55.11it/s]\u001b[A\n",
      " 29%|██▉       | 292/1000 [00:04<00:12, 58.03it/s]\u001b[A\n",
      " 30%|██▉       | 299/1000 [00:04<00:11, 60.08it/s]\u001b[A\n",
      " 31%|███       | 306/1000 [00:04<00:11, 61.17it/s]\u001b[A\n",
      " 31%|███▏      | 313/1000 [00:05<00:10, 63.19it/s]\u001b[A\n",
      " 32%|███▏      | 320/1000 [00:05<00:10, 64.11it/s]\u001b[A\n",
      " 33%|███▎      | 327/1000 [00:05<00:10, 63.50it/s]\u001b[A\n",
      " 33%|███▎      | 334/1000 [00:05<00:10, 63.51it/s]\u001b[A\n",
      " 34%|███▍      | 341/1000 [00:05<00:10, 61.07it/s]\u001b[A\n",
      " 35%|███▍      | 348/1000 [00:05<00:11, 57.53it/s]\u001b[A\n",
      " 35%|███▌      | 354/1000 [00:05<00:11, 56.90it/s]\u001b[A\n",
      " 36%|███▌      | 361/1000 [00:05<00:10, 59.15it/s]\u001b[A\n",
      " 37%|███▋      | 368/1000 [00:05<00:10, 61.18it/s]\u001b[A\n",
      " 38%|███▊      | 375/1000 [00:06<00:09, 63.55it/s]\u001b[A\n",
      " 38%|███▊      | 382/1000 [00:06<00:09, 63.93it/s]\u001b[A\n",
      " 39%|███▉      | 389/1000 [00:06<00:09, 64.65it/s]\u001b[A\n",
      " 40%|███▉      | 396/1000 [00:06<00:09, 61.94it/s]\u001b[A\n",
      " 40%|████      | 403/1000 [00:06<00:10, 55.79it/s]\u001b[A\n",
      " 41%|████      | 409/1000 [00:06<00:11, 53.18it/s]\u001b[A\n",
      " 42%|████▏     | 415/1000 [00:06<00:10, 53.48it/s]\u001b[A\n",
      " 42%|████▏     | 421/1000 [00:06<00:10, 52.67it/s]\u001b[A\n",
      " 43%|████▎     | 427/1000 [00:07<00:11, 50.74it/s]\u001b[A\n",
      " 43%|████▎     | 434/1000 [00:07<00:10, 54.54it/s]\u001b[A\n",
      " 44%|████▍     | 441/1000 [00:07<00:09, 56.91it/s]\u001b[A\n",
      " 45%|████▍     | 448/1000 [00:07<00:09, 58.40it/s]\u001b[A\n",
      " 46%|████▌     | 455/1000 [00:07<00:09, 59.58it/s]\u001b[A\n",
      " 46%|████▌     | 462/1000 [00:07<00:08, 60.60it/s]\u001b[A\n",
      " 47%|████▋     | 469/1000 [00:07<00:08, 61.16it/s]\u001b[A\n",
      " 48%|████▊     | 476/1000 [00:07<00:08, 60.60it/s]\u001b[A\n",
      " 48%|████▊     | 483/1000 [00:07<00:08, 57.84it/s]\u001b[A\n",
      " 49%|████▉     | 490/1000 [00:08<00:08, 59.91it/s]\u001b[A\n",
      " 50%|████▉     | 497/1000 [00:08<00:08, 61.46it/s]\u001b[A\n",
      " 50%|█████     | 504/1000 [00:08<00:08, 61.89it/s]\u001b[A\n",
      " 51%|█████     | 511/1000 [00:08<00:07, 61.63it/s]\u001b[A\n",
      " 52%|█████▏    | 518/1000 [00:08<00:07, 63.18it/s]\u001b[A\n",
      " 52%|█████▎    | 525/1000 [00:08<00:07, 61.63it/s]\u001b[A\n",
      " 53%|█████▎    | 532/1000 [00:08<00:08, 55.28it/s]\u001b[A\n",
      " 54%|█████▍    | 538/1000 [00:08<00:08, 52.37it/s]\u001b[A\n",
      " 54%|█████▍    | 544/1000 [00:09<00:08, 53.39it/s]\u001b[A\n",
      " 55%|█████▌    | 551/1000 [00:09<00:08, 56.06it/s]\u001b[A\n",
      " 56%|█████▌    | 558/1000 [00:09<00:07, 57.93it/s]\u001b[A\n",
      " 56%|█████▋    | 564/1000 [00:09<00:07, 56.54it/s]\u001b[A\n",
      " 57%|█████▋    | 570/1000 [00:09<00:07, 56.27it/s]\u001b[A\n",
      " 58%|█████▊    | 576/1000 [00:09<00:07, 57.31it/s]\u001b[A\n",
      " 58%|█████▊    | 583/1000 [00:09<00:06, 60.09it/s]\u001b[A\n",
      " 59%|█████▉    | 590/1000 [00:09<00:06, 61.67it/s]\u001b[A\n",
      " 60%|█████▉    | 597/1000 [00:09<00:06, 61.82it/s]\u001b[A\n",
      " 60%|██████    | 604/1000 [00:10<00:06, 62.99it/s]\u001b[A\n",
      " 61%|██████    | 611/1000 [00:10<00:06, 63.33it/s]\u001b[A\n",
      " 62%|██████▏   | 618/1000 [00:10<00:06, 61.45it/s]\u001b[A\n",
      " 62%|██████▎   | 625/1000 [00:10<00:06, 61.84it/s]\u001b[A\n",
      " 63%|██████▎   | 632/1000 [00:10<00:05, 61.41it/s]\u001b[A\n",
      " 64%|██████▍   | 639/1000 [00:10<00:05, 60.32it/s]\u001b[A\n",
      " 65%|██████▍   | 646/1000 [00:10<00:06, 56.01it/s]\u001b[A\n",
      " 65%|██████▌   | 652/1000 [00:10<00:06, 55.35it/s]\u001b[A\n",
      " 66%|██████▌   | 659/1000 [00:10<00:05, 57.15it/s]\u001b[A\n",
      " 67%|██████▋   | 666/1000 [00:11<00:05, 59.88it/s]\u001b[A\n",
      " 67%|██████▋   | 673/1000 [00:11<00:05, 62.07it/s]\u001b[A\n",
      " 68%|██████▊   | 680/1000 [00:11<00:05, 62.90it/s]\u001b[A\n",
      " 69%|██████▊   | 687/1000 [00:11<00:05, 62.02it/s]\u001b[A\n",
      " 69%|██████▉   | 694/1000 [00:11<00:04, 62.16it/s]\u001b[A\n",
      " 70%|███████   | 701/1000 [00:11<00:04, 61.86it/s]\u001b[A\n",
      " 71%|███████   | 708/1000 [00:11<00:05, 54.58it/s]\u001b[A\n",
      " 71%|███████▏  | 714/1000 [00:11<00:05, 53.28it/s]\u001b[A\n",
      " 72%|███████▏  | 721/1000 [00:12<00:04, 55.85it/s]\u001b[A\n",
      " 73%|███████▎  | 728/1000 [00:12<00:04, 57.56it/s]\u001b[A\n",
      " 74%|███████▎  | 735/1000 [00:12<00:04, 59.06it/s]\u001b[A\n",
      " 74%|███████▍  | 742/1000 [00:12<00:04, 60.77it/s]\u001b[A\n",
      " 75%|███████▍  | 749/1000 [00:12<00:04, 62.04it/s]\u001b[A\n",
      " 76%|███████▌  | 756/1000 [00:12<00:03, 62.26it/s]\u001b[A\n",
      " 76%|███████▋  | 763/1000 [00:12<00:03, 63.31it/s]\u001b[A\n",
      " 77%|███████▋  | 770/1000 [00:12<00:03, 61.61it/s]\u001b[A\n",
      " 78%|███████▊  | 777/1000 [00:12<00:03, 62.57it/s]\u001b[A\n",
      " 78%|███████▊  | 784/1000 [00:12<00:03, 63.39it/s]\u001b[A\n",
      " 79%|███████▉  | 791/1000 [00:13<00:03, 63.32it/s]\u001b[A\n",
      " 80%|███████▉  | 798/1000 [00:13<00:03, 63.32it/s]\u001b[A\n",
      " 80%|████████  | 805/1000 [00:13<00:03, 62.90it/s]\u001b[A\n",
      " 81%|████████  | 812/1000 [00:13<00:03, 60.95it/s]\u001b[A\n",
      " 82%|████████▏ | 819/1000 [00:13<00:03, 57.46it/s]\u001b[A\n",
      " 82%|████████▎ | 825/1000 [00:13<00:03, 55.69it/s]\u001b[A\n",
      " 83%|████████▎ | 831/1000 [00:13<00:03, 54.55it/s]\u001b[A\n",
      " 84%|████████▎ | 837/1000 [00:13<00:03, 53.59it/s]\u001b[A\n",
      " 84%|████████▍ | 843/1000 [00:14<00:02, 52.81it/s]\u001b[A\n",
      " 85%|████████▍ | 849/1000 [00:14<00:02, 53.20it/s]\u001b[A\n",
      " 86%|████████▌ | 855/1000 [00:14<00:02, 53.39it/s]\u001b[A\n",
      " 86%|████████▌ | 861/1000 [00:14<00:02, 51.41it/s]\u001b[A\n",
      " 87%|████████▋ | 867/1000 [00:14<00:02, 51.41it/s]\u001b[A\n",
      " 87%|████████▋ | 873/1000 [00:14<00:02, 51.69it/s]\u001b[A\n",
      " 88%|████████▊ | 879/1000 [00:14<00:02, 51.88it/s]\u001b[A\n",
      " 88%|████████▊ | 885/1000 [00:14<00:02, 53.06it/s]\u001b[A\n",
      " 89%|████████▉ | 891/1000 [00:14<00:02, 53.67it/s]\u001b[A\n",
      " 90%|████████▉ | 897/1000 [00:15<00:01, 53.96it/s]\u001b[A\n",
      " 90%|█████████ | 903/1000 [00:15<00:01, 54.46it/s]\u001b[A\n",
      " 91%|█████████ | 909/1000 [00:15<00:01, 54.41it/s]\u001b[A\n",
      " 92%|█████████▏| 916/1000 [00:15<00:01, 56.64it/s]\u001b[A\n",
      " 92%|█████████▏| 923/1000 [00:15<00:01, 59.43it/s]\u001b[A\n",
      " 93%|█████████▎| 930/1000 [00:15<00:01, 61.96it/s]\u001b[A\n",
      " 94%|█████████▎| 937/1000 [00:15<00:00, 63.71it/s]\u001b[A\n",
      " 94%|█████████▍| 944/1000 [00:15<00:00, 63.90it/s]\u001b[A\n",
      " 95%|█████████▌| 951/1000 [00:15<00:00, 60.51it/s]\u001b[A\n",
      " 96%|█████████▌| 958/1000 [00:16<00:00, 58.70it/s]\u001b[A\n",
      " 96%|█████████▋| 964/1000 [00:16<00:00, 57.53it/s]\u001b[A\n",
      " 97%|█████████▋| 970/1000 [00:16<00:00, 56.57it/s]\u001b[A\n",
      " 98%|█████████▊| 976/1000 [00:16<00:00, 53.92it/s]\u001b[A\n",
      " 98%|█████████▊| 982/1000 [00:16<00:00, 53.31it/s]\u001b[A\n",
      " 99%|█████████▉| 988/1000 [00:16<00:00, 54.06it/s]\u001b[A\n",
      " 99%|█████████▉| 994/1000 [00:16<00:00, 53.17it/s]\u001b[A\n",
      "100%|██████████| 1000/1000 [00:16<00:00, 52.74it/s]\u001b[A\n",
      "\u001b[A"
     ]
    }
   ],
   "source": [
    "\n",
    "with model:\n",
    "    step = pm.Metropolis()\n",
    "    trace = pm.sample(1000, step=step)\n",
    "\n",
    "\n"
   ]
  },
  {
   "cell_type": "code",
   "execution_count": 175,
   "metadata": {},
   "outputs": [
    {
     "data": {
      "text/plain": [
       "<matplotlib.axes._subplots.AxesSubplot at 0x7f352249fa20>"
      ]
     },
     "execution_count": 175,
     "metadata": {},
     "output_type": "execute_result"
    },
    {
     "data": {
      "image/png": "[encoded data removed]",
      "text/plain": [
       "<matplotlib.figure.Figure at 0x7f3522291d68>"
      ]
     },
     "metadata": {},
     "output_type": "display_data"
    }
   ],
   "source": [
    "sns.distplot(trace['delta'])"
   ]
  },
  {
   "cell_type": "code",
   "execution_count": null,
   "metadata": {
    "collapsed": true
   },
   "outputs": [],
   "source": []
  }
 ],
 "metadata": {
  "kernelspec": {
   "display_name": "Python [conda env:snowflake]",
   "language": "python",
   "name": "conda-env-snowflake-py"
  },
  "language_info": {
   "codemirror_mode": {
    "name": "ipython",
    "version": 3
   },
   "file_extension": ".py",
   "mimetype": "text/x-python",
   "name": "python",
   "nbconvert_exporter": "python",
   "pygments_lexer": "ipython3",
   "version": "3.6.1"
  }
 },
 "nbformat": 4,
 "nbformat_minor": 2
}
